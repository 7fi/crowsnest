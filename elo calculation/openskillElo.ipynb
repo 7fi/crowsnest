{
 "cells": [
  {
   "cell_type": "code",
   "execution_count": 1,
   "metadata": {},
   "outputs": [],
   "source": [
    "from openskill.models import PlackettLuce\n",
    "import pandas as pd\n",
    "import numpy as np\n",
    "import firebase_admin\n",
    "from firebase_admin import credentials\n",
    "from firebase_admin import firestore\n",
    "\n",
    "cred = credentials.Certificate(\"thecrowsnestapp-creds.json\")\n",
    "firebase_admin.initialize_app(cred)\n",
    "\n",
    "db = firestore.client()\n",
    "model = PlackettLuce()"
   ]
  },
  {
   "cell_type": "code",
   "execution_count": 2,
   "metadata": {},
   "outputs": [],
   "source": [
    "class Sailor:\n",
    "    def __init__(self, name, teams, pos, seasons=[], rank=0, rating=1500):\n",
    "        self.name = name\n",
    "        self.teams = teams\n",
    "        self.pos = pos\n",
    "        self.rank = rank\n",
    "        self.seasons = seasons\n",
    "        self.races = []\n",
    "        self.changes = []\n",
    "        self.r = model.rating(rating,rating // 3,name)\n",
    "        \n",
    "    def rerate(self, rating):\n",
    "        self.r = model.rating(rating.mu, rating.sigma, self.name)\n",
    "        \n",
    "    def __repr__(self):\n",
    "        return f\"{self.name}: {self.teams}, {self.pos} {str(self.r)}\""
   ]
  },
  {
   "cell_type": "code",
   "execution_count": 93,
   "metadata": {},
   "outputs": [
    {
     "name": "stdout",
     "output_type": "stream",
     "text": [
      "p1: Plackett-Luce Player Data: \n",
      "\n",
      "id: ad16bdc0c0104be0921137ba9ff870f2\n",
      "name: p1\n",
      "mu: 1489.5836948596302\n",
      "sigma: 489.5844366494107\n",
      " p2: Plackett-Luce Player Data: \n",
      "\n",
      "id: 52c34cc14e5649d98d05ec0fb4a48f5a\n",
      "name: p2\n",
      "mu: 1708.3261028073944\n",
      "sigma: 473.70353025398146\n",
      " p3: Plackett-Luce Player Data: \n",
      "\n",
      "id: 031367610f89420bbcc83782462d1683\n",
      "name: p3\n",
      "mu: 1874.98698505331\n",
      "sigma: 488.14186177390417\n",
      " p4: Plackett-Luce Player Data: \n",
      "\n",
      "id: 376a0d80cc2047c78423cab70c0a5555\n",
      "name: p4\n",
      "mu: 1364.5880331751937\n",
      "sigma: 489.5844366494107\n",
      "\n"
     ]
    }
   ],
   "source": [
    "p1 = Sailor(\"p1\", ['nu'], 'Skipper')\n",
    "p2 = Sailor(\"p2\", ['nu'], 'Skipper')\n",
    "p3 = Sailor(\"p3\", ['nu'], 'Skipper')\n",
    "p4 = Sailor(\"p4\", ['nu'], 'Skipper')\n",
    "players = [p1,p2,p3,p4]\n",
    "ratings = [[p.r] for p in players]\n",
    "ratings = model.rate(ratings, [3,2,1,4], weights=[[3.0]] * 4)\n",
    "for p,n in zip(players, ratings):\n",
    "    p.r = n[0]\n",
    "print(p1,p2,p3,p4)"
   ]
  },
  {
   "cell_type": "code",
   "execution_count": 13,
   "metadata": {},
   "outputs": [],
   "source": [
    "#create people\n",
    "# converters={\"Teams\": lambda x: [y.strip().split(\"'\")[1] for y in x.strip(\"[]\").split(\", \")]}\n",
    "df_races = pd.read_json(\"races.json\")\n",
    "\n",
    "df_races['Ratio'] = 1 - (df_races['Score'] / df_races['Teams'].apply(len))\n",
    "df_races['Ratio'] = df_races['Ratio'].astype(float)\n",
    "df_races['numTeams'] = df_races['Teams'].apply(len)\n",
    "df_races['raceNum'] = df_races['raceID'].apply(lambda id: int(id.split(\"/\")[2][:-1]))\n",
    "\n",
    "# df_races['Date'] = df_races['Date'].apply(lambda date: (int(date.split(\"-\")[0]), int(date.split(\"-\")[1]), int(date.split(\"-\")[2])))\n",
    "df_races_full = df_races.sort_values(['Date', 'raceNum']).reset_index(drop=True)\n",
    "\n",
    "# df_races = df_races.loc[df_races['raceID'].str.contains('f24')] # filter for f24\n",
    "df_races_skipper = df_races_full.loc[df_races_full['Position'].str.contains('Skipper')] # filter for skippers\n",
    "df_races_crew = df_races_full.loc[df_races_full['Position'].str.contains('Crew')] # filter for skippers\n",
    "people = {}\n",
    "\n",
    "# Pre-group the data for skippers and crews\n",
    "skipper_groups = df_races_skipper.groupby('Sailor')['Team'].unique()\n",
    "crew_groups = df_races_crew.groupby('Sailor')['Team'].unique()\n",
    "\n",
    "# Precompute seasons for skippers and crew\n",
    "skipper_seasons = (\n",
    "    df_races_skipper.assign(Season=df_races_skipper['raceID'].str.split('/').str[0])\n",
    "    .groupby('Sailor')['Season']\n",
    "    .unique()\n",
    ")\n",
    "\n",
    "crew_seasons = (\n",
    "    df_races_crew.assign(Season=df_races_crew['raceID'].str.split('/').str[0])\n",
    "    .groupby('Sailor')['Season']\n",
    "    .unique()\n",
    ")\n",
    "\n",
    "# Function to add a sailor to the dictionary\n",
    "def add_sailor(group, seasons_group, role):\n",
    "    for sailor, teams in group.items():\n",
    "        # If no teams are associated, set \"Unknown\"\n",
    "        teams = teams if len(teams) > 0 else [\"Unknown\"]\n",
    "\n",
    "        # Retrieve the precomputed seasons\n",
    "        seasons = seasons_group.get(sailor, [])\n",
    "        \n",
    "        # Add the sailor to the people dictionary\n",
    "        people[f\"{sailor}/{role}\"] = Sailor(sailor, teams, role, list(seasons))\n",
    "\n",
    "# Add skippers and crew\n",
    "add_sailor(skipper_groups, skipper_seasons, 'Skipper')\n",
    "add_sailor(crew_groups, crew_seasons, 'Crew')"
   ]
  },
  {
   "cell_type": "code",
   "execution_count": 14,
   "metadata": {},
   "outputs": [
    {
     "name": "stdout",
     "output_type": "stream",
     "text": [
      "Currently analyzing race 0/65010 Regatta:s16/peter-wenner-rainbow-invite, Date:2016-01-16 00:00:00\n",
      "Currently analyzing race 1000/65010 Regatta:s16/navy-spring, Date:2016-04-16 00:00:00\n",
      "Currently analyzing race 2000/65010 Regatta:f16/lark-invitational, Date:2016-09-10 00:00:00\n",
      "Currently analyzing race 3000/65010 Regatta:f16/philly-fleet-race, Date:2016-10-01 00:00:00\n",
      "f16/south did not have enough races??\n",
      "f16/south did not have enough races??\n",
      "f16/south did not have enough races??\n",
      "f16/south did not have enough races??\n",
      "f16/south did not have enough races??\n",
      "f16/south did not have enough races??\n",
      "f16/south did not have enough races??\n",
      "f16/south did not have enough races??\n",
      "f16/south did not have enough races??\n",
      "f16/south did not have enough races??\n",
      "f16/south did not have enough races??\n",
      "f16/south did not have enough races??\n",
      "f16/south did not have enough races??\n",
      "f16/south did not have enough races??\n",
      "f16/south did not have enough races??\n",
      "f16/south did not have enough races??\n",
      "f16/south did not have enough races??\n",
      "f16/south did not have enough races??\n",
      "f16/south did not have enough races??\n",
      "f16/south did not have enough races??\n",
      "Currently analyzing race 4000/65010 Regatta:s17/eckerd-interconference, Date:2017-03-04 00:00:00\n",
      "s17/women-championships did not have enough races??\n",
      "s17/tyrell did not have enough races??\n",
      "Currently analyzing race 5000/65010 Regatta:s17/thompson, Date:2017-04-15 00:00:00\n",
      "s17/mendums-invite did not have enough races??\n",
      "f17/acton-up did not have enough races??\n",
      "Currently analyzing race 6000/65010 Regatta:f17/central-series, Date:2017-09-16 00:00:00\n",
      "f17/cascadia-cup-silver did not have enough races??\n",
      "f17/cascadia-cup-silver did not have enough races??\n",
      "Currently analyzing race 7000/65010 Regatta:f17/mcgill-cup, Date:2017-10-14 00:00:00\n",
      "Currently analyzing race 8000/65010 Regatta:s18/eckerd-interconference, Date:2018-03-03 00:00:00\n",
      "Currently analyzing race 9000/65010 Regatta:s18/nwicsa-women-qualifier, Date:2018-04-15 00:00:00\n",
      "Currently analyzing race 10000/65010 Regatta:f18/all-state-sugar-bowl, Date:2018-09-22 00:00:00\n",
      "Currently analyzing race 11000/65010 Regatta:f18/maisa-north-series, Date:2018-10-13 00:00:00\n",
      "Currently analyzing race 12000/65010 Regatta:s19/old-south, Date:2019-02-09 00:00:00\n",
      "s19/maisa-saisa did not have enough races??\n",
      "s19/volunteer-open-invitational did not have enough races??\n",
      "s19/volunteer-open-invitational did not have enough races??\n",
      "s19/volunteer-open-invitational did not have enough races??\n",
      "s19/volunteer-open-invitational did not have enough races??\n",
      "s19/volunteer-open-invitational did not have enough races??\n",
      "s19/volunteer-open-invitational did not have enough races??\n",
      "s19/volunteer-open-invitational did not have enough races??\n",
      "s19/volunteer-open-invitational did not have enough races??\n",
      "Currently analyzing race 13000/65010 Regatta:s19/navy-spring, Date:2019-04-13 00:00:00\n",
      "s19/nwicsa-co-ed-champs did not have enough races??\n",
      "Currently analyzing race 14000/65010 Regatta:f19/saisa-open, Date:2019-09-07 00:00:00\n",
      "f19/stuart-walker did not have enough races??\n",
      "f19/boiler-cup did not have enough races??\n",
      "Currently analyzing race 15000/65010 Regatta:f19/george-warren-smith, Date:2019-10-05 00:00:00\n",
      "f19/protest did not have enough races??\n",
      "f19/protest did not have enough races??\n",
      "f19/protest did not have enough races??\n",
      "f19/protest did not have enough races??\n",
      "f19/protest did not have enough races??\n",
      "f19/protest did not have enough races??\n",
      "f19/protest did not have enough races??\n",
      "f19/protest did not have enough races??\n",
      "f19/protest did not have enough races??\n",
      "f19/protest did not have enough races??\n",
      "f19/protest did not have enough races??\n",
      "f19/protest did not have enough races??\n",
      "f19/protest did not have enough races??\n",
      "f19/protest did not have enough races??\n",
      "f19/protest did not have enough races??\n",
      "f19/protest did not have enough races??\n",
      "f19/protest did not have enough races??\n",
      "f19/protest did not have enough races??\n",
      "Currently analyzing race 16000/65010 Regatta:f19/war, Date:2019-10-26 00:00:00\n",
      "Currently analyzing race 17000/65010 Regatta:s21/maisa-south-women-championships, Date:2021-04-17 00:00:00\n",
      "s21/seisa-coed did not have enough races??\n",
      "Currently analyzing race 18000/65010 Regatta:f21/seisa-clinic, Date:2021-09-26 00:00:00\n",
      "f21/seisa-clinic did not have enough races??\n",
      "f21/seisa-clinic did not have enough races??\n",
      "f21/seisa-clinic did not have enough races??\n",
      "f21/seisa-clinic did not have enough races??\n",
      "f21/coho-open did not have enough races??\n",
      "f21/coho-open did not have enough races??\n",
      "f21/coho-open did not have enough races??\n",
      "f21/coho-open did not have enough races??\n",
      "f21/coho-open did not have enough races??\n",
      "f21/coho-open did not have enough races??\n",
      "f21/coho-open did not have enough races??\n",
      "f21/coho-open did not have enough races??\n",
      "f21/coho-open did not have enough races??\n",
      "f21/coho-open did not have enough races??\n",
      "f21/coho-open did not have enough races??\n",
      "f21/coho-open did not have enough races??\n",
      "f21/coho-open did not have enough races??\n",
      "f21/coho-open did not have enough races??\n",
      "f21/coho-open did not have enough races??\n",
      "f21/coho-open did not have enough races??\n",
      "f21/coho-open did not have enough races??\n",
      "f21/coho-open did not have enough races??\n",
      "f21/coho-open did not have enough races??\n",
      "f21/coho-open did not have enough races??\n",
      "f21/coho-open did not have enough races??\n",
      "f21/coho-open did not have enough races??\n",
      "f21/coho-open did not have enough races??\n",
      "f21/shu-2021 did not have enough races??\n",
      "f21/shu-2021 did not have enough races??\n",
      "f21/shu-2021 did not have enough races??\n",
      "f21/shu-2021 did not have enough races??\n",
      "f21/shu-2021 did not have enough races??\n",
      "f21/shu-2021 did not have enough races??\n",
      "f21/shu-2021 did not have enough races??\n",
      "f21/shu-2021 did not have enough races??\n",
      "f21/shu-2021 did not have enough races??\n",
      "f21/shu-2021 did not have enough races??\n",
      "f21/shu-2021 did not have enough races??\n",
      "f21/shu-2021 did not have enough races??\n",
      "f21/hoosier-mama did not have enough races??\n",
      "f21/hoosier-mama did not have enough races??\n",
      "f21/hoosier-mama did not have enough races??\n",
      "f21/hoosier-mama did not have enough races??\n",
      "f21/hoosier-mama did not have enough races??\n",
      "f21/hoosier-mama did not have enough races??\n",
      "f21/hoosier-mama did not have enough races??\n",
      "f21/hoosier-mama did not have enough races??\n",
      "f21/hoosier-mama did not have enough races??\n",
      "f21/hoosier-mama did not have enough races??\n",
      "Currently analyzing race 19000/65010 Regatta:f21/np6-uncw, Date:2021-10-16 00:00:00\n",
      "f21/kilpatrick did not have enough races??\n",
      "f21/kilpatrick did not have enough races??\n",
      "f21/kilpatrick did not have enough races??\n",
      "f21/frosh-soph did not have enough races??\n",
      "f21/frosh-soph did not have enough races??\n",
      "Currently analyzing race 20000/65010 Regatta:s22/mustang-women, Date:2022-03-05 00:00:00\n",
      "s22/halifax-river-invitational did not have enough races??\n",
      "s22/halifax-river-invitational did not have enough races??\n",
      "s22/halifax-river-invitational did not have enough races??\n",
      "s22/halifax-river-invitational did not have enough races??\n",
      "s22/halifax-river-invitational did not have enough races??\n",
      "s22/halifax-river-invitational did not have enough races??\n",
      "s22/halifax-river-invitational did not have enough races??\n",
      "s22/halifax-river-invitational did not have enough races??\n",
      "Currently analyzing race 21000/65010 Regatta:s22/admirals-cup, Date:2022-04-23 00:00:00\n",
      "s22/nwicsa-championships-jv did not have enough races??\n",
      "s22/tommie-cup did not have enough races??\n",
      "s22/tommie-cup did not have enough races??\n",
      "s22/tommie-cup did not have enough races??\n",
      "s22/tommie-cup did not have enough races??\n",
      "Currently analyzing race 22000/65010 Regatta:f22/jack-boehringer-52, Date:2022-09-17 00:00:00\n",
      "f22/kingfisher did not have enough races??\n",
      "f22/kingfisher did not have enough races??\n",
      "f22/kingfisher did not have enough races??\n",
      "f22/kingfisher did not have enough races??\n",
      "f22/kingfisher did not have enough races??\n",
      "Currently analyzing race 23000/65010 Regatta:f22/stu-nelson, Date:2022-10-08 00:00:00\n",
      "f22/cc-invite did not have enough races??\n",
      "f22/cc-invite did not have enough races??\n",
      "f22/cc-invite did not have enough races??\n",
      "f22/cc-invite did not have enough races??\n",
      "Currently analyzing race 24000/65010 Regatta:s23/husky-women-fr, Date:2023-02-12 00:00:00\n",
      "s23/mustang-women did not have enough races??\n",
      "Currently analyzing race 25000/65010 Regatta:s23/85th-boston-dinghy-club-challenge-cup, Date:2023-04-22 00:00:00\n",
      "Currently analyzing race 26000/65010 Regatta:f23/eagle-invite, Date:2023-09-23 00:00:00\n",
      "f23/harris-kempner did not have enough races??\n",
      "f23/harris-kempner did not have enough races??\n",
      "f23/harris-kempner did not have enough races??\n",
      "f23/harris-kempner did not have enough races??\n",
      "f23/harris-kempner did not have enough races??\n",
      "f23/harris-kempner did not have enough races??\n",
      "f23/harris-kempner did not have enough races??\n",
      "f23/harris-kempner did not have enough races??\n",
      "f23/harris-kempner did not have enough races??\n",
      "f23/harris-kempner did not have enough races??\n",
      "f23/harris-kempner did not have enough races??\n",
      "f23/harris-kempner did not have enough races??\n",
      "f23/harris-kempner did not have enough races??\n",
      "f23/harris-kempner did not have enough races??\n",
      "f23/harris-kempner did not have enough races??\n",
      "f23/harris-kempner did not have enough races??\n",
      "f23/harris-kempner did not have enough races??\n",
      "f23/harris-kempner did not have enough races??\n",
      "f23/kilpatrick did not have enough races??\n",
      "f23/sailpack-women-intercollegiate did not have enough races??\n",
      "f23/sailpack-women-intercollegiate did not have enough races??\n",
      "f23/sailpack-women-intercollegiate did not have enough races??\n",
      "f23/rock-chalk did not have enough races??\n",
      "Currently analyzing race 27000/65010 Regatta:f23/captain-hurst-bowl, Date:2023-10-14 00:00:00\n",
      "f23/stony-brook-fall-open did not have enough races??\n",
      "Currently analyzing race 28000/65010 Regatta:s24/jeff-simon-women, Date:2024-01-27 00:00:00\n",
      "s24/tag-2024 did not have enough races??\n",
      "s24/tag-2024 did not have enough races??\n",
      "Currently analyzing race 29000/65010 Regatta:s24/laker-showdown, Date:2024-04-13 00:00:00\n",
      "f24/ccyc-fall-open did not have enough races??\n",
      "f24/ccyc-fall-open did not have enough races??\n",
      "f24/ccyc-fall-open did not have enough races??\n",
      "f24/ccyc-fall-open did not have enough races??\n",
      "f24/ccyc-fall-open did not have enough races??\n",
      "f24/ccyc-fall-open did not have enough races??\n",
      "f24/ccyc-fall-open did not have enough races??\n",
      "f24/ccyc-fall-open did not have enough races??\n",
      "f24/ccyc-fall-open did not have enough races??\n",
      "f24/ccyc-fall-open did not have enough races??\n",
      "f24/ccyc-fall-open did not have enough races??\n",
      "f24/ccyc-fall-open did not have enough races??\n",
      "f24/ccyc-fall-open did not have enough races??\n",
      "f24/ccyc-fall-open did not have enough races??\n",
      "f24/ccyc-fall-open did not have enough races??\n",
      "f24/ccyc-fall-open did not have enough races??\n",
      "f24/ccyc-fall-open did not have enough races??\n",
      "f24/ccyc-fall-open did not have enough races??\n",
      "Currently analyzing race 30000/65010 Regatta:f24/saisa-top-invite, Date:2024-09-07 00:00:00\n",
      "f24/jesuit-invite did not have enough races??\n",
      "f24/jesuit-invite did not have enough races??\n",
      "Currently analyzing race 31000/65010 Regatta:f24/robert-cary-allen-price, Date:2024-09-28 00:00:00\n",
      "f24/salve-invite did not have enough races??\n",
      "Currently analyzing race 32000/65010 Regatta:f24/stoney-burke-womens, Date:2024-10-19 00:00:00\n",
      "Currently analyzing race 33000/64842 Regatta:s16/st-mary-women-interconference, Date:2016-03-19 00:00:00\n",
      "s16/wisco-division did not have enough races??\n",
      "s16/wisco-division did not have enough races??\n",
      "s16/wisco-division did not have enough races??\n",
      "s16/wisco-division did not have enough races??\n",
      "s16/wisco-division did not have enough races??\n",
      "s16/wisco-division did not have enough races??\n",
      "s16/wisco-division did not have enough races??\n",
      "s16/wisco-division did not have enough races??\n",
      "s16/wisco-division did not have enough races??\n",
      "Currently analyzing race 34000/64842 Regatta:s16/wisco-division, Date:2016-04-23 00:00:00\n",
      "s16/wisco-division did not have enough races??\n",
      "s16/wisco-division did not have enough races??\n",
      "s16/wisco-division did not have enough races??\n",
      "Currently analyzing race 35000/64842 Regatta:f16/amanda, Date:2016-09-24 00:00:00\n",
      "f16/south did not have enough races??\n",
      "f16/south did not have enough races??\n",
      "f16/south did not have enough races??\n",
      "f16/south did not have enough races??\n",
      "f16/south did not have enough races??\n",
      "f16/south did not have enough races??\n",
      "f16/south did not have enough races??\n",
      "f16/south did not have enough races??\n",
      "f16/south did not have enough races??\n",
      "f16/south did not have enough races??\n",
      "f16/south did not have enough races??\n",
      "f16/south did not have enough races??\n",
      "f16/south did not have enough races??\n",
      "f16/south did not have enough races??\n",
      "f16/south did not have enough races??\n",
      "f16/south did not have enough races??\n",
      "f16/south did not have enough races??\n",
      "f16/south did not have enough races??\n",
      "f16/south did not have enough races??\n",
      "f16/south did not have enough races??\n",
      "Currently analyzing race 36000/64842 Regatta:f16/war-backup, Date:2016-10-29 00:00:00\n",
      "Currently analyzing race 37000/64842 Regatta:s17/webb-woolum, Date:2017-04-01 00:00:00\n",
      "s17/women-championships did not have enough races??\n",
      "s17/tyrell did not have enough races??\n",
      "s17/rochester-club-open did not have enough races??\n",
      "s17/rochester-club-open did not have enough races??\n",
      "s17/rochester-club-open did not have enough races??\n",
      "s17/rochester-club-open did not have enough races??\n",
      "s17/rochester-club-open did not have enough races??\n",
      "s17/rochester-club-open did not have enough races??\n",
      "s17/rochester-club-open did not have enough races??\n",
      "s17/rochester-club-open did not have enough races??\n",
      "s17/mendums-invite did not have enough races??\n",
      "Currently analyzing race 38000/64842 Regatta:s17/gorge-invite-alumni, Date:2017-05-13 00:00:00\n",
      "f17/acton-up did not have enough races??\n",
      "Currently analyzing race 39000/64842 Regatta:f17/south-points, Date:2017-09-30 00:00:00\n",
      "f17/cascadia-cup-silver did not have enough races??\n",
      "f17/cascadia-cup-silver did not have enough races??\n",
      "Currently analyzing race 40000/64842 Regatta:f17/sister-esther-open, Date:2017-11-04 00:00:00\n",
      "Currently analyzing race 41000/64842 Regatta:s18/central-spring-open, Date:2018-04-07 00:00:00\n",
      "s18/rainier-cup-jv did not have enough races??\n",
      "s18/rainier-cup-jv did not have enough races??\n",
      "Currently analyzing race 42000/64842 Regatta:s18/gill-coed-west-semis, Date:2018-05-29 00:00:00\n",
      "Currently analyzing race 43000/64842 Regatta:f18/harvard-coed-showcase, Date:2018-10-06 00:00:00\n",
      "Currently analyzing race 44000/64842 Regatta:f18/ne-fall-tournament, Date:2018-10-27 00:00:00\n",
      "s19/maisa-saisa did not have enough races??\n",
      "Currently analyzing race 45000/64842 Regatta:s19/vietor, Date:2019-03-23 00:00:00\n",
      "s19/volunteer-open-invitational did not have enough races??\n",
      "s19/volunteer-open-invitational did not have enough races??\n",
      "s19/volunteer-open-invitational did not have enough races??\n",
      "s19/volunteer-open-invitational did not have enough races??\n",
      "s19/volunteer-open-invitational did not have enough races??\n",
      "s19/volunteer-open-invitational did not have enough races??\n",
      "s19/volunteer-open-invitational did not have enough races??\n",
      "s19/volunteer-open-invitational did not have enough races??\n",
      "s19/nwicsa-co-ed-champs did not have enough races??\n",
      "Currently analyzing race 46000/64842 Regatta:s19/south-uri, Date:2019-04-27 00:00:00\n",
      "f19/stuart-walker did not have enough races??\n",
      "f19/boiler-cup did not have enough races??\n",
      "Currently analyzing race 47000/64842 Regatta:f19/salt-pond-invite, Date:2019-09-21 00:00:00\n",
      "f19/protest did not have enough races??\n",
      "f19/protest did not have enough races??\n",
      "f19/protest did not have enough races??\n",
      "f19/protest did not have enough races??\n",
      "f19/protest did not have enough races??\n",
      "f19/protest did not have enough races??\n",
      "f19/protest did not have enough races??\n",
      "f19/protest did not have enough races??\n",
      "f19/protest did not have enough races??\n",
      "f19/protest did not have enough races??\n",
      "f19/protest did not have enough races??\n",
      "f19/protest did not have enough races??\n",
      "f19/protest did not have enough races??\n",
      "f19/protest did not have enough races??\n",
      "f19/protest did not have enough races??\n",
      "f19/protest did not have enough races??\n",
      "f19/protest did not have enough races??\n",
      "f19/protest did not have enough races??\n",
      "Currently analyzing race 48000/64842 Regatta:f19/cascadia-cup-silver, Date:2019-10-19 00:00:00\n",
      "Currently analyzing race 49000/64842 Regatta:s20/jv-anteater-open, Date:2020-03-07 00:00:00\n",
      "s21/seisa-coed did not have enough races??\n",
      "Currently analyzing race 50000/64842 Regatta:f21/buckeye-invitational, Date:2021-09-18 00:00:00\n",
      "f21/seisa-clinic did not have enough races??\n",
      "f21/seisa-clinic did not have enough races??\n",
      "f21/seisa-clinic did not have enough races??\n",
      "f21/seisa-clinic did not have enough races??\n",
      "f21/coho-open did not have enough races??\n",
      "f21/coho-open did not have enough races??\n",
      "f21/coho-open did not have enough races??\n",
      "f21/coho-open did not have enough races??\n",
      "f21/coho-open did not have enough races??\n",
      "f21/coho-open did not have enough races??\n",
      "f21/coho-open did not have enough races??\n",
      "f21/coho-open did not have enough races??\n",
      "f21/coho-open did not have enough races??\n",
      "f21/coho-open did not have enough races??\n",
      "f21/coho-open did not have enough races??\n",
      "f21/coho-open did not have enough races??\n",
      "f21/coho-open did not have enough races??\n",
      "f21/coho-open did not have enough races??\n",
      "f21/coho-open did not have enough races??\n",
      "f21/coho-open did not have enough races??\n",
      "f21/coho-open did not have enough races??\n",
      "f21/coho-open did not have enough races??\n",
      "f21/coho-open did not have enough races??\n",
      "f21/coho-open did not have enough races??\n",
      "f21/coho-open did not have enough races??\n",
      "f21/coho-open did not have enough races??\n",
      "f21/coho-open did not have enough races??\n",
      "f21/shu-2021 did not have enough races??\n",
      "f21/shu-2021 did not have enough races??\n",
      "f21/shu-2021 did not have enough races??\n",
      "f21/shu-2021 did not have enough races??\n",
      "f21/shu-2021 did not have enough races??\n",
      "f21/shu-2021 did not have enough races??\n",
      "f21/shu-2021 did not have enough races??\n",
      "f21/shu-2021 did not have enough races??\n",
      "f21/shu-2021 did not have enough races??\n",
      "f21/shu-2021 did not have enough races??\n",
      "f21/shu-2021 did not have enough races??\n",
      "f21/shu-2021 did not have enough races??\n",
      "f21/hoosier-mama did not have enough races??\n",
      "f21/hoosier-mama did not have enough races??\n",
      "f21/hoosier-mama did not have enough races??\n",
      "f21/hoosier-mama did not have enough races??\n",
      "f21/hoosier-mama did not have enough races??\n",
      "f21/hoosier-mama did not have enough races??\n",
      "f21/hoosier-mama did not have enough races??\n",
      "f21/hoosier-mama did not have enough races??\n",
      "f21/hoosier-mama did not have enough races??\n",
      "f21/hoosier-mama did not have enough races??\n",
      "Currently analyzing race 51000/64842 Regatta:f21/saisa-maisa-women, Date:2021-10-09 00:00:00\n",
      "f21/kilpatrick did not have enough races??\n",
      "f21/kilpatrick did not have enough races??\n",
      "f21/kilpatrick did not have enough races??\n",
      "Currently analyzing race 52000/64842 Regatta:f21/saisa-women-champs, Date:2021-10-30 00:00:00\n",
      "f21/frosh-soph did not have enough races??\n",
      "f21/frosh-soph did not have enough races??\n",
      "s22/halifax-river-invitational did not have enough races??\n",
      "s22/halifax-river-invitational did not have enough races??\n",
      "s22/halifax-river-invitational did not have enough races??\n",
      "s22/halifax-river-invitational did not have enough races??\n",
      "s22/halifax-river-invitational did not have enough races??\n",
      "s22/halifax-river-invitational did not have enough races??\n",
      "s22/halifax-river-invitational did not have enough races??\n",
      "s22/halifax-river-invitational did not have enough races??\n",
      "Currently analyzing race 53000/64842 Regatta:s22/ne-dinghy-tourney, Date:2022-04-09 00:00:00\n",
      "s22/nwicsa-championships-jv did not have enough races??\n",
      "Currently analyzing race 54000/64842 Regatta:s22/sailing-womens-national, Date:2022-05-25 00:00:00\n",
      "Currently analyzing race 55000/64842 Regatta:f22/mccurdy, Date:2022-10-01 00:00:00\n",
      "Currently analyzing race 56000/64842 Regatta:f22/yale-women-interconference, Date:2022-10-22 00:00:00\n",
      "f22/cc-invite did not have enough races??\n",
      "f22/cc-invite did not have enough races??\n",
      "f22/cc-invite did not have enough races??\n",
      "f22/cc-invite did not have enough races??\n",
      "s23/mustang-women did not have enough races??\n",
      "Currently analyzing race 57000/64842 Regatta:s23/anteater-open-varsity, Date:2023-04-08 00:00:00\n",
      "Currently analyzing race 58000/64842 Regatta:s23/sailing-dinghy-national, Date:2023-06-01 00:00:00\n",
      "f23/harris-kempner did not have enough races??\n",
      "f23/harris-kempner did not have enough races??\n",
      "f23/harris-kempner did not have enough races??\n",
      "f23/harris-kempner did not have enough races??\n",
      "f23/harris-kempner did not have enough races??\n",
      "f23/harris-kempner did not have enough races??\n",
      "f23/harris-kempner did not have enough races??\n",
      "f23/harris-kempner did not have enough races??\n",
      "f23/harris-kempner did not have enough races??\n",
      "f23/harris-kempner did not have enough races??\n",
      "f23/harris-kempner did not have enough races??\n",
      "f23/harris-kempner did not have enough races??\n",
      "f23/harris-kempner did not have enough races??\n",
      "f23/harris-kempner did not have enough races??\n",
      "f23/harris-kempner did not have enough races??\n",
      "f23/harris-kempner did not have enough races??\n",
      "f23/harris-kempner did not have enough races??\n",
      "f23/harris-kempner did not have enough races??\n",
      "f23/kilpatrick did not have enough races??\n",
      "f23/sailpack-women-intercollegiate did not have enough races??\n",
      "f23/sailpack-women-intercollegiate did not have enough races??\n",
      "f23/sailpack-women-intercollegiate did not have enough races??\n",
      "Currently analyzing race 59000/64842 Regatta:f23/cofc-fall-women, Date:2023-10-07 00:00:00\n",
      "f23/rock-chalk did not have enough races??\n",
      "f23/stony-brook-fall-open did not have enough races??\n",
      "Currently analyzing race 60000/64842 Regatta:f23/82nd-schell, Date:2023-10-28 00:00:00\n",
      "s24/tag-2024 did not have enough races??\n",
      "s24/tag-2024 did not have enough races??\n",
      "Currently analyzing race 61000/64842 Regatta:s24/boston-fr, Date:2024-03-30 00:00:00\n",
      "Currently analyzing race 62000/64842 Regatta:s24/east-national-women-semi-final, Date:2024-05-20 00:00:00\n",
      "f24/ccyc-fall-open did not have enough races??\n",
      "f24/ccyc-fall-open did not have enough races??\n",
      "f24/ccyc-fall-open did not have enough races??\n",
      "f24/ccyc-fall-open did not have enough races??\n",
      "f24/ccyc-fall-open did not have enough races??\n",
      "f24/ccyc-fall-open did not have enough races??\n",
      "f24/ccyc-fall-open did not have enough races??\n",
      "f24/ccyc-fall-open did not have enough races??\n",
      "f24/ccyc-fall-open did not have enough races??\n",
      "f24/ccyc-fall-open did not have enough races??\n",
      "f24/ccyc-fall-open did not have enough races??\n",
      "f24/ccyc-fall-open did not have enough races??\n",
      "f24/ccyc-fall-open did not have enough races??\n",
      "f24/ccyc-fall-open did not have enough races??\n",
      "f24/ccyc-fall-open did not have enough races??\n",
      "f24/ccyc-fall-open did not have enough races??\n",
      "f24/ccyc-fall-open did not have enough races??\n",
      "f24/ccyc-fall-open did not have enough races??\n",
      "f24/jesuit-invite did not have enough races??\n",
      "f24/jesuit-invite did not have enough races??\n",
      "Currently analyzing race 63000/64842 Regatta:f24/maisa-top-women, Date:2024-09-21 00:00:00\n",
      "Currently analyzing race 64000/64842 Regatta:f24/nevins, Date:2024-10-12 00:00:00\n",
      "f24/salve-invite did not have enough races??\n"
     ]
    }
   ],
   "source": [
    "stype = 'Ratio'\n",
    "i = 0\n",
    "residuals = []\n",
    "\n",
    "for type, df_races in zip(['/Skipper', '/Crew'], [df_races_skipper, df_races_crew]):\n",
    "    grouped = df_races.groupby(['Date', 'Regatta', 'raceID'])\n",
    "\n",
    "    for (date, regatta, race), scores in grouped:\n",
    "        if i % 1000 == 0:\n",
    "            print(f\"Currently analyzing race {i}/{len(df_races['raceID'].unique()) * 2} Regatta:{regatta}, Date:{date}\")\n",
    "        i += 1\n",
    "\n",
    "        sailors = scores['Sailor']\n",
    "        if sailors.empty:\n",
    "            continue\n",
    "\n",
    "        # Recalculate global average\n",
    "        globalAvg = sum([p.r.mu for p in people.values()]) / len(people)\n",
    "\n",
    "        # Compute regatta average\n",
    "        regattaAvg = sum([people[p + type].r.mu for p in sailors]) / len(sailors)\n",
    "        multiplier = regattaAvg / globalAvg\n",
    "\n",
    "        # Initialize racers and ratings\n",
    "        racers = [people[p + type] for p in sailors]\n",
    "        startingElos = [r.r.mu for r in racers]\n",
    "        ratings = [[r.r] for r in racers]\n",
    "\n",
    "        # Skip races with fewer than 2 participants\n",
    "        if len(ratings) < 2:\n",
    "            print(regatta, \"did not have enough sailors??\")\n",
    "            continue\n",
    "\n",
    "        # Rate using the model\n",
    "        ratings = model.rate(ratings, list(scores['Score']), weights=[[multiplier]] * len(ratings))\n",
    "\n",
    "        predictions = model.predict_rank(ratings)\n",
    "        # print(predictions)\n",
    "        \n",
    "        for pred, score in zip(predictions, scores['Score']):\n",
    "            residuals.append(score - pred[0])\n",
    "        # print(list(scores['Score']))\n",
    "\n",
    "        # Update racers' ratings\n",
    "        for racer, new_rating in zip(racers, ratings):\n",
    "            racer.r = new_rating[0]\n",
    "\n",
    "        # Calculate changes\n",
    "        changes = [racers[i].r.mu - startingElos[i] for i in range(len(racers))]\n",
    "\n",
    "        # Update sailors' race data\n",
    "        for idx, sailor in enumerate(sailors):\n",
    "            sailor_obj = people[sailor + type]\n",
    "            sailor_obj.races.append(race)\n",
    "            sailor_obj.changes.append({\n",
    "                'score': scores.loc[scores['Sailor'] == sailor, 'Score'].iat[0],\n",
    "                'predicted': predictions[idx][0],\n",
    "                'change':changes[idx],\n",
    "                'regAvg':regattaAvg,\n",
    "                'newRating':sailor_obj.r.mu,\n",
    "                'date':date,\n",
    "                'partner':scores.loc[scores['Sailor'] == sailor, 'Partner'].iat[0],\n",
    "                'ratio':scores.loc[scores['Sailor'] == sailor, 'Ratio'].iat[0], \n",
    "                'venue':scores.loc[(scores['Sailor'] == sailor) & (scores['raceID'] == race), 'Venue'].iat[0],\n",
    "                'raceID': race\n",
    "            })\n",
    "#         if i == 5:\n",
    "#             break\n",
    "#     if i == 5:\n",
    "#         break\n",
    "# print(residuals)"
   ]
  },
  {
   "cell_type": "code",
   "execution_count": 11,
   "metadata": {},
   "outputs": [
    {
     "name": "stdout",
     "output_type": "stream",
     "text": [
      "8.625\n"
     ]
    }
   ],
   "source": [
    "mse = (np.array(residuals)**2).mean()\n",
    "# r2 = 1 - (mse/ynew.var())\n",
    "print(mse)"
   ]
  },
  {
   "cell_type": "code",
   "execution_count": 16,
   "metadata": {},
   "outputs": [
    {
     "name": "stderr",
     "output_type": "stream",
     "text": [
      "/var/folders/10/cpsfwdm906d0_fmx9wrl17gh0000gn/T/ipykernel_72152/3350673087.py:20: FutureWarning: Calling float on a single element Series is deprecated and will raise a TypeError in the future. Use float(ser.iloc[0]) instead\n",
      "  score = float(race.loc[race['Sailor'] == sailor.name, 'Score'])\n",
      "/var/folders/10/cpsfwdm906d0_fmx9wrl17gh0000gn/T/ipykernel_72152/3350673087.py:20: FutureWarning: Calling float on a single element Series is deprecated and will raise a TypeError in the future. Use float(ser.iloc[0]) instead\n",
      "  score = float(race.loc[race['Sailor'] == sailor.name, 'Score'])\n",
      "/var/folders/10/cpsfwdm906d0_fmx9wrl17gh0000gn/T/ipykernel_72152/3350673087.py:20: FutureWarning: Calling float on a single element Series is deprecated and will raise a TypeError in the future. Use float(ser.iloc[0]) instead\n",
      "  score = float(race.loc[race['Sailor'] == sailor.name, 'Score'])\n",
      "/var/folders/10/cpsfwdm906d0_fmx9wrl17gh0000gn/T/ipykernel_72152/3350673087.py:20: FutureWarning: Calling float on a single element Series is deprecated and will raise a TypeError in the future. Use float(ser.iloc[0]) instead\n",
      "  score = float(race.loc[race['Sailor'] == sailor.name, 'Score'])\n",
      "/var/folders/10/cpsfwdm906d0_fmx9wrl17gh0000gn/T/ipykernel_72152/3350673087.py:20: FutureWarning: Calling float on a single element Series is deprecated and will raise a TypeError in the future. Use float(ser.iloc[0]) instead\n",
      "  score = float(race.loc[race['Sailor'] == sailor.name, 'Score'])\n",
      "/var/folders/10/cpsfwdm906d0_fmx9wrl17gh0000gn/T/ipykernel_72152/3350673087.py:20: FutureWarning: Calling float on a single element Series is deprecated and will raise a TypeError in the future. Use float(ser.iloc[0]) instead\n",
      "  score = float(race.loc[race['Sailor'] == sailor.name, 'Score'])\n",
      "/var/folders/10/cpsfwdm906d0_fmx9wrl17gh0000gn/T/ipykernel_72152/3350673087.py:20: FutureWarning: Calling float on a single element Series is deprecated and will raise a TypeError in the future. Use float(ser.iloc[0]) instead\n",
      "  score = float(race.loc[race['Sailor'] == sailor.name, 'Score'])\n",
      "/var/folders/10/cpsfwdm906d0_fmx9wrl17gh0000gn/T/ipykernel_72152/3350673087.py:20: FutureWarning: Calling float on a single element Series is deprecated and will raise a TypeError in the future. Use float(ser.iloc[0]) instead\n",
      "  score = float(race.loc[race['Sailor'] == sailor.name, 'Score'])\n",
      "/var/folders/10/cpsfwdm906d0_fmx9wrl17gh0000gn/T/ipykernel_72152/3350673087.py:20: FutureWarning: Calling float on a single element Series is deprecated and will raise a TypeError in the future. Use float(ser.iloc[0]) instead\n",
      "  score = float(race.loc[race['Sailor'] == sailor.name, 'Score'])\n",
      "/var/folders/10/cpsfwdm906d0_fmx9wrl17gh0000gn/T/ipykernel_72152/3350673087.py:20: FutureWarning: Calling float on a single element Series is deprecated and will raise a TypeError in the future. Use float(ser.iloc[0]) instead\n",
      "  score = float(race.loc[race['Sailor'] == sailor.name, 'Score'])\n",
      "/var/folders/10/cpsfwdm906d0_fmx9wrl17gh0000gn/T/ipykernel_72152/3350673087.py:20: FutureWarning: Calling float on a single element Series is deprecated and will raise a TypeError in the future. Use float(ser.iloc[0]) instead\n",
      "  score = float(race.loc[race['Sailor'] == sailor.name, 'Score'])\n",
      "/var/folders/10/cpsfwdm906d0_fmx9wrl17gh0000gn/T/ipykernel_72152/3350673087.py:20: FutureWarning: Calling float on a single element Series is deprecated and will raise a TypeError in the future. Use float(ser.iloc[0]) instead\n",
      "  score = float(race.loc[race['Sailor'] == sailor.name, 'Score'])\n",
      "/var/folders/10/cpsfwdm906d0_fmx9wrl17gh0000gn/T/ipykernel_72152/3350673087.py:20: FutureWarning: Calling float on a single element Series is deprecated and will raise a TypeError in the future. Use float(ser.iloc[0]) instead\n",
      "  score = float(race.loc[race['Sailor'] == sailor.name, 'Score'])\n",
      "/var/folders/10/cpsfwdm906d0_fmx9wrl17gh0000gn/T/ipykernel_72152/3350673087.py:20: FutureWarning: Calling float on a single element Series is deprecated and will raise a TypeError in the future. Use float(ser.iloc[0]) instead\n",
      "  score = float(race.loc[race['Sailor'] == sailor.name, 'Score'])\n",
      "/var/folders/10/cpsfwdm906d0_fmx9wrl17gh0000gn/T/ipykernel_72152/3350673087.py:20: FutureWarning: Calling float on a single element Series is deprecated and will raise a TypeError in the future. Use float(ser.iloc[0]) instead\n",
      "  score = float(race.loc[race['Sailor'] == sailor.name, 'Score'])\n",
      "/var/folders/10/cpsfwdm906d0_fmx9wrl17gh0000gn/T/ipykernel_72152/3350673087.py:20: FutureWarning: Calling float on a single element Series is deprecated and will raise a TypeError in the future. Use float(ser.iloc[0]) instead\n",
      "  score = float(race.loc[race['Sailor'] == sailor.name, 'Score'])\n",
      "/var/folders/10/cpsfwdm906d0_fmx9wrl17gh0000gn/T/ipykernel_72152/3350673087.py:20: FutureWarning: Calling float on a single element Series is deprecated and will raise a TypeError in the future. Use float(ser.iloc[0]) instead\n",
      "  score = float(race.loc[race['Sailor'] == sailor.name, 'Score'])\n",
      "/var/folders/10/cpsfwdm906d0_fmx9wrl17gh0000gn/T/ipykernel_72152/3350673087.py:20: FutureWarning: Calling float on a single element Series is deprecated and will raise a TypeError in the future. Use float(ser.iloc[0]) instead\n",
      "  score = float(race.loc[race['Sailor'] == sailor.name, 'Score'])\n",
      "/var/folders/10/cpsfwdm906d0_fmx9wrl17gh0000gn/T/ipykernel_72152/3350673087.py:20: FutureWarning: Calling float on a single element Series is deprecated and will raise a TypeError in the future. Use float(ser.iloc[0]) instead\n",
      "  score = float(race.loc[race['Sailor'] == sailor.name, 'Score'])\n",
      "/var/folders/10/cpsfwdm906d0_fmx9wrl17gh0000gn/T/ipykernel_72152/3350673087.py:20: FutureWarning: Calling float on a single element Series is deprecated and will raise a TypeError in the future. Use float(ser.iloc[0]) instead\n",
      "  score = float(race.loc[race['Sailor'] == sailor.name, 'Score'])\n",
      "/var/folders/10/cpsfwdm906d0_fmx9wrl17gh0000gn/T/ipykernel_72152/3350673087.py:20: FutureWarning: Calling float on a single element Series is deprecated and will raise a TypeError in the future. Use float(ser.iloc[0]) instead\n",
      "  score = float(race.loc[race['Sailor'] == sailor.name, 'Score'])\n",
      "/var/folders/10/cpsfwdm906d0_fmx9wrl17gh0000gn/T/ipykernel_72152/3350673087.py:20: FutureWarning: Calling float on a single element Series is deprecated and will raise a TypeError in the future. Use float(ser.iloc[0]) instead\n",
      "  score = float(race.loc[race['Sailor'] == sailor.name, 'Score'])\n",
      "/var/folders/10/cpsfwdm906d0_fmx9wrl17gh0000gn/T/ipykernel_72152/3350673087.py:20: FutureWarning: Calling float on a single element Series is deprecated and will raise a TypeError in the future. Use float(ser.iloc[0]) instead\n",
      "  score = float(race.loc[race['Sailor'] == sailor.name, 'Score'])\n",
      "/var/folders/10/cpsfwdm906d0_fmx9wrl17gh0000gn/T/ipykernel_72152/3350673087.py:20: FutureWarning: Calling float on a single element Series is deprecated and will raise a TypeError in the future. Use float(ser.iloc[0]) instead\n",
      "  score = float(race.loc[race['Sailor'] == sailor.name, 'Score'])\n",
      "/var/folders/10/cpsfwdm906d0_fmx9wrl17gh0000gn/T/ipykernel_72152/3350673087.py:20: FutureWarning: Calling float on a single element Series is deprecated and will raise a TypeError in the future. Use float(ser.iloc[0]) instead\n",
      "  score = float(race.loc[race['Sailor'] == sailor.name, 'Score'])\n",
      "/var/folders/10/cpsfwdm906d0_fmx9wrl17gh0000gn/T/ipykernel_72152/3350673087.py:20: FutureWarning: Calling float on a single element Series is deprecated and will raise a TypeError in the future. Use float(ser.iloc[0]) instead\n",
      "  score = float(race.loc[race['Sailor'] == sailor.name, 'Score'])\n"
     ]
    },
    {
     "name": "stdout",
     "output_type": "stream",
     "text": [
      "Mean Absolute Error for predictions in Race f24/mcsa-open-fall/10A: 2.00\n",
      "Mean Absolute Error for predictions in Race f24/mcsa-open-fall/10A: 3.88\n",
      "Mean Absolute Error for predictions in Race f24/mcsa-open-fall/10A: 3.56\n"
     ]
    },
    {
     "data": {
      "application/vnd.plotly.v1+json": {
       "config": {
        "plotlyServerURL": "https://plot.ly"
       },
       "data": [
        {
         "alignmentgroup": "True",
         "hovertemplate": "variable=actual<br>Sailor=%{x}<br>value=%{y}<extra></extra>",
         "legendgroup": "actual",
         "marker": {
          "color": "#0101fd",
          "pattern": {
           "shape": ""
          }
         },
         "name": "actual",
         "offsetgroup": "actual",
         "orientation": "v",
         "showlegend": true,
         "textposition": "auto",
         "type": "bar",
         "x": [
          "Andrew Michels",
          "Braden Vogel",
          "Carly Irwin",
          "Eric Brieden",
          "Greg Bittle",
          "Jack Rutherford",
          "Jacob Hsia",
          "Jacqueline Ruggieri",
          "Jake Weinstein",
          "Mason Shaw",
          "Nithya Balachander",
          "Nok In Chan",
          "Timothy Hesse",
          "Aidan Kiergan",
          "Alden Gort",
          "Alexander Charlton",
          "Benjamin Conrad",
          "Colin Herbolsheimer",
          "Colin Hexter",
          "Connor Bricco",
          "Gabriella Thomas",
          "Gavin Parsons",
          "Gavin Yao",
          "Herbert Single",
          "Naomi Peters",
          "Thomas Erickson"
         ],
         "xaxis": "x",
         "y": [
          2,
          1,
          13,
          4,
          5,
          10,
          12,
          9,
          7,
          6,
          8,
          11,
          3,
          3,
          1,
          11,
          6,
          8,
          4,
          10,
          13,
          2,
          12,
          7,
          5,
          9
         ],
         "yaxis": "y"
        },
        {
         "alignmentgroup": "True",
         "hovertemplate": "variable=pred<br>Sailor=%{x}<br>value=%{y}<extra></extra>",
         "legendgroup": "pred",
         "marker": {
          "color": "#ffa500",
          "pattern": {
           "shape": ""
          }
         },
         "name": "pred",
         "offsetgroup": "pred",
         "orientation": "v",
         "showlegend": true,
         "textposition": "auto",
         "type": "bar",
         "x": [
          "Andrew Michels",
          "Braden Vogel",
          "Carly Irwin",
          "Eric Brieden",
          "Greg Bittle",
          "Jack Rutherford",
          "Jacob Hsia",
          "Jacqueline Ruggieri",
          "Jake Weinstein",
          "Mason Shaw",
          "Nithya Balachander",
          "Nok In Chan",
          "Timothy Hesse",
          "Aidan Kiergan",
          "Alden Gort",
          "Alexander Charlton",
          "Benjamin Conrad",
          "Colin Herbolsheimer",
          "Colin Hexter",
          "Connor Bricco",
          "Gabriella Thomas",
          "Gavin Parsons",
          "Gavin Yao",
          "Herbert Single",
          "Naomi Peters",
          "Thomas Erickson"
         ],
         "xaxis": "x",
         "y": [
          7,
          1,
          13,
          8,
          6,
          11,
          12,
          3,
          2,
          9,
          4,
          10,
          5,
          2,
          3,
          11,
          10,
          7,
          5,
          9,
          13,
          4,
          12,
          1,
          6,
          8
         ],
         "yaxis": "y"
        },
        {
         "alignmentgroup": "True",
         "hovertemplate": "variable=predLR<br>Sailor=%{x}<br>value=%{y}<extra></extra>",
         "legendgroup": "predLR",
         "marker": {
          "color": "#00cc96",
          "pattern": {
           "shape": ""
          }
         },
         "name": "predLR",
         "offsetgroup": "predLR",
         "orientation": "v",
         "showlegend": true,
         "textposition": "auto",
         "type": "bar",
         "x": [
          "Andrew Michels",
          "Braden Vogel",
          "Carly Irwin",
          "Eric Brieden",
          "Greg Bittle",
          "Jack Rutherford",
          "Jacob Hsia",
          "Jacqueline Ruggieri",
          "Jake Weinstein",
          "Mason Shaw",
          "Nithya Balachander",
          "Nok In Chan",
          "Timothy Hesse",
          "Aidan Kiergan",
          "Alden Gort",
          "Alexander Charlton",
          "Benjamin Conrad",
          "Colin Herbolsheimer",
          "Colin Hexter",
          "Connor Bricco",
          "Gabriella Thomas",
          "Gavin Parsons",
          "Gavin Yao",
          "Herbert Single",
          "Naomi Peters",
          "Thomas Erickson"
         ],
         "xaxis": "x",
         "y": [
          4.824195759806829,
          4.9500170211182155,
          2.839350850044214,
          4.244090215716456,
          2.769569423083597,
          2.772672843719734,
          5.471700322477121,
          5.047070153343698,
          5.2660466167610895,
          6.628175165428361,
          4.639045070987125,
          4.901495458729729,
          5.5461968434440525,
          5.58440175375708,
          4.6846938487135805,
          4.6367708600815565,
          7.044214347276723,
          8.601414703469887,
          8.07356273625672,
          7.611804273111007,
          10.176976783120413,
          11.642642480834724,
          6.2685510236908915,
          9.63425964059988,
          10.559102918735592,
          11.24508626302904
         ],
         "yaxis": "y"
        },
        {
         "alignmentgroup": "True",
         "hovertemplate": "variable=predRF<br>Sailor=%{x}<br>value=%{y}<extra></extra>",
         "legendgroup": "predRF",
         "marker": {
          "color": "#ab63fa",
          "pattern": {
           "shape": ""
          }
         },
         "name": "predRF",
         "offsetgroup": "predRF",
         "orientation": "v",
         "showlegend": true,
         "textposition": "auto",
         "type": "bar",
         "x": [
          "Andrew Michels",
          "Braden Vogel",
          "Carly Irwin",
          "Eric Brieden",
          "Greg Bittle",
          "Jack Rutherford",
          "Jacob Hsia",
          "Jacqueline Ruggieri",
          "Jake Weinstein",
          "Mason Shaw",
          "Nithya Balachander",
          "Nok In Chan",
          "Timothy Hesse",
          "Aidan Kiergan",
          "Alden Gort",
          "Alexander Charlton",
          "Benjamin Conrad",
          "Colin Herbolsheimer",
          "Colin Hexter",
          "Connor Bricco",
          "Gabriella Thomas",
          "Gavin Parsons",
          "Gavin Yao",
          "Herbert Single",
          "Naomi Peters",
          "Thomas Erickson"
         ],
         "xaxis": "x",
         "y": [
          3.9355420690420697,
          4.492127511377511,
          3.0508055555555553,
          1.324,
          3.7537622475978263,
          3.472963324979114,
          7.138277111777111,
          5.567183122433122,
          6.736050449550452,
          6.215801490176491,
          5.288532120657121,
          4.811262626262626,
          5.2238301616683955,
          5.642383632707163,
          4.391623015873015,
          5.627672438672439,
          9.639555555555557,
          8.581619047619048,
          8.623269758019756,
          10.088201452142629,
          11.37025,
          11.850193112443112,
          8.009892579642583,
          7.599339937839936,
          13.189087495837496,
          11.256572828936168
         ],
         "yaxis": "y"
        }
       ],
       "layout": {
        "barmode": "group",
        "legend": {
         "title": {
          "text": "variable"
         },
         "tracegroupgap": 0
        },
        "margin": {
         "t": 60
        },
        "template": {
         "data": {
          "bar": [
           {
            "error_x": {
             "color": "#2a3f5f"
            },
            "error_y": {
             "color": "#2a3f5f"
            },
            "marker": {
             "line": {
              "color": "#E5ECF6",
              "width": 0.5
             },
             "pattern": {
              "fillmode": "overlay",
              "size": 10,
              "solidity": 0.2
             }
            },
            "type": "bar"
           }
          ],
          "barpolar": [
           {
            "marker": {
             "line": {
              "color": "#E5ECF6",
              "width": 0.5
             },
             "pattern": {
              "fillmode": "overlay",
              "size": 10,
              "solidity": 0.2
             }
            },
            "type": "barpolar"
           }
          ],
          "carpet": [
           {
            "aaxis": {
             "endlinecolor": "#2a3f5f",
             "gridcolor": "white",
             "linecolor": "white",
             "minorgridcolor": "white",
             "startlinecolor": "#2a3f5f"
            },
            "baxis": {
             "endlinecolor": "#2a3f5f",
             "gridcolor": "white",
             "linecolor": "white",
             "minorgridcolor": "white",
             "startlinecolor": "#2a3f5f"
            },
            "type": "carpet"
           }
          ],
          "choropleth": [
           {
            "colorbar": {
             "outlinewidth": 0,
             "ticks": ""
            },
            "type": "choropleth"
           }
          ],
          "contour": [
           {
            "colorbar": {
             "outlinewidth": 0,
             "ticks": ""
            },
            "colorscale": [
             [
              0,
              "#0d0887"
             ],
             [
              0.1111111111111111,
              "#46039f"
             ],
             [
              0.2222222222222222,
              "#7201a8"
             ],
             [
              0.3333333333333333,
              "#9c179e"
             ],
             [
              0.4444444444444444,
              "#bd3786"
             ],
             [
              0.5555555555555556,
              "#d8576b"
             ],
             [
              0.6666666666666666,
              "#ed7953"
             ],
             [
              0.7777777777777778,
              "#fb9f3a"
             ],
             [
              0.8888888888888888,
              "#fdca26"
             ],
             [
              1,
              "#f0f921"
             ]
            ],
            "type": "contour"
           }
          ],
          "contourcarpet": [
           {
            "colorbar": {
             "outlinewidth": 0,
             "ticks": ""
            },
            "type": "contourcarpet"
           }
          ],
          "heatmap": [
           {
            "colorbar": {
             "outlinewidth": 0,
             "ticks": ""
            },
            "colorscale": [
             [
              0,
              "#0d0887"
             ],
             [
              0.1111111111111111,
              "#46039f"
             ],
             [
              0.2222222222222222,
              "#7201a8"
             ],
             [
              0.3333333333333333,
              "#9c179e"
             ],
             [
              0.4444444444444444,
              "#bd3786"
             ],
             [
              0.5555555555555556,
              "#d8576b"
             ],
             [
              0.6666666666666666,
              "#ed7953"
             ],
             [
              0.7777777777777778,
              "#fb9f3a"
             ],
             [
              0.8888888888888888,
              "#fdca26"
             ],
             [
              1,
              "#f0f921"
             ]
            ],
            "type": "heatmap"
           }
          ],
          "heatmapgl": [
           {
            "colorbar": {
             "outlinewidth": 0,
             "ticks": ""
            },
            "colorscale": [
             [
              0,
              "#0d0887"
             ],
             [
              0.1111111111111111,
              "#46039f"
             ],
             [
              0.2222222222222222,
              "#7201a8"
             ],
             [
              0.3333333333333333,
              "#9c179e"
             ],
             [
              0.4444444444444444,
              "#bd3786"
             ],
             [
              0.5555555555555556,
              "#d8576b"
             ],
             [
              0.6666666666666666,
              "#ed7953"
             ],
             [
              0.7777777777777778,
              "#fb9f3a"
             ],
             [
              0.8888888888888888,
              "#fdca26"
             ],
             [
              1,
              "#f0f921"
             ]
            ],
            "type": "heatmapgl"
           }
          ],
          "histogram": [
           {
            "marker": {
             "pattern": {
              "fillmode": "overlay",
              "size": 10,
              "solidity": 0.2
             }
            },
            "type": "histogram"
           }
          ],
          "histogram2d": [
           {
            "colorbar": {
             "outlinewidth": 0,
             "ticks": ""
            },
            "colorscale": [
             [
              0,
              "#0d0887"
             ],
             [
              0.1111111111111111,
              "#46039f"
             ],
             [
              0.2222222222222222,
              "#7201a8"
             ],
             [
              0.3333333333333333,
              "#9c179e"
             ],
             [
              0.4444444444444444,
              "#bd3786"
             ],
             [
              0.5555555555555556,
              "#d8576b"
             ],
             [
              0.6666666666666666,
              "#ed7953"
             ],
             [
              0.7777777777777778,
              "#fb9f3a"
             ],
             [
              0.8888888888888888,
              "#fdca26"
             ],
             [
              1,
              "#f0f921"
             ]
            ],
            "type": "histogram2d"
           }
          ],
          "histogram2dcontour": [
           {
            "colorbar": {
             "outlinewidth": 0,
             "ticks": ""
            },
            "colorscale": [
             [
              0,
              "#0d0887"
             ],
             [
              0.1111111111111111,
              "#46039f"
             ],
             [
              0.2222222222222222,
              "#7201a8"
             ],
             [
              0.3333333333333333,
              "#9c179e"
             ],
             [
              0.4444444444444444,
              "#bd3786"
             ],
             [
              0.5555555555555556,
              "#d8576b"
             ],
             [
              0.6666666666666666,
              "#ed7953"
             ],
             [
              0.7777777777777778,
              "#fb9f3a"
             ],
             [
              0.8888888888888888,
              "#fdca26"
             ],
             [
              1,
              "#f0f921"
             ]
            ],
            "type": "histogram2dcontour"
           }
          ],
          "mesh3d": [
           {
            "colorbar": {
             "outlinewidth": 0,
             "ticks": ""
            },
            "type": "mesh3d"
           }
          ],
          "parcoords": [
           {
            "line": {
             "colorbar": {
              "outlinewidth": 0,
              "ticks": ""
             }
            },
            "type": "parcoords"
           }
          ],
          "pie": [
           {
            "automargin": true,
            "type": "pie"
           }
          ],
          "scatter": [
           {
            "fillpattern": {
             "fillmode": "overlay",
             "size": 10,
             "solidity": 0.2
            },
            "type": "scatter"
           }
          ],
          "scatter3d": [
           {
            "line": {
             "colorbar": {
              "outlinewidth": 0,
              "ticks": ""
             }
            },
            "marker": {
             "colorbar": {
              "outlinewidth": 0,
              "ticks": ""
             }
            },
            "type": "scatter3d"
           }
          ],
          "scattercarpet": [
           {
            "marker": {
             "colorbar": {
              "outlinewidth": 0,
              "ticks": ""
             }
            },
            "type": "scattercarpet"
           }
          ],
          "scattergeo": [
           {
            "marker": {
             "colorbar": {
              "outlinewidth": 0,
              "ticks": ""
             }
            },
            "type": "scattergeo"
           }
          ],
          "scattergl": [
           {
            "marker": {
             "colorbar": {
              "outlinewidth": 0,
              "ticks": ""
             }
            },
            "type": "scattergl"
           }
          ],
          "scattermapbox": [
           {
            "marker": {
             "colorbar": {
              "outlinewidth": 0,
              "ticks": ""
             }
            },
            "type": "scattermapbox"
           }
          ],
          "scatterpolar": [
           {
            "marker": {
             "colorbar": {
              "outlinewidth": 0,
              "ticks": ""
             }
            },
            "type": "scatterpolar"
           }
          ],
          "scatterpolargl": [
           {
            "marker": {
             "colorbar": {
              "outlinewidth": 0,
              "ticks": ""
             }
            },
            "type": "scatterpolargl"
           }
          ],
          "scatterternary": [
           {
            "marker": {
             "colorbar": {
              "outlinewidth": 0,
              "ticks": ""
             }
            },
            "type": "scatterternary"
           }
          ],
          "surface": [
           {
            "colorbar": {
             "outlinewidth": 0,
             "ticks": ""
            },
            "colorscale": [
             [
              0,
              "#0d0887"
             ],
             [
              0.1111111111111111,
              "#46039f"
             ],
             [
              0.2222222222222222,
              "#7201a8"
             ],
             [
              0.3333333333333333,
              "#9c179e"
             ],
             [
              0.4444444444444444,
              "#bd3786"
             ],
             [
              0.5555555555555556,
              "#d8576b"
             ],
             [
              0.6666666666666666,
              "#ed7953"
             ],
             [
              0.7777777777777778,
              "#fb9f3a"
             ],
             [
              0.8888888888888888,
              "#fdca26"
             ],
             [
              1,
              "#f0f921"
             ]
            ],
            "type": "surface"
           }
          ],
          "table": [
           {
            "cells": {
             "fill": {
              "color": "#EBF0F8"
             },
             "line": {
              "color": "white"
             }
            },
            "header": {
             "fill": {
              "color": "#C8D4E3"
             },
             "line": {
              "color": "white"
             }
            },
            "type": "table"
           }
          ]
         },
         "layout": {
          "annotationdefaults": {
           "arrowcolor": "#2a3f5f",
           "arrowhead": 0,
           "arrowwidth": 1
          },
          "autotypenumbers": "strict",
          "coloraxis": {
           "colorbar": {
            "outlinewidth": 0,
            "ticks": ""
           }
          },
          "colorscale": {
           "diverging": [
            [
             0,
             "#8e0152"
            ],
            [
             0.1,
             "#c51b7d"
            ],
            [
             0.2,
             "#de77ae"
            ],
            [
             0.3,
             "#f1b6da"
            ],
            [
             0.4,
             "#fde0ef"
            ],
            [
             0.5,
             "#f7f7f7"
            ],
            [
             0.6,
             "#e6f5d0"
            ],
            [
             0.7,
             "#b8e186"
            ],
            [
             0.8,
             "#7fbc41"
            ],
            [
             0.9,
             "#4d9221"
            ],
            [
             1,
             "#276419"
            ]
           ],
           "sequential": [
            [
             0,
             "#0d0887"
            ],
            [
             0.1111111111111111,
             "#46039f"
            ],
            [
             0.2222222222222222,
             "#7201a8"
            ],
            [
             0.3333333333333333,
             "#9c179e"
            ],
            [
             0.4444444444444444,
             "#bd3786"
            ],
            [
             0.5555555555555556,
             "#d8576b"
            ],
            [
             0.6666666666666666,
             "#ed7953"
            ],
            [
             0.7777777777777778,
             "#fb9f3a"
            ],
            [
             0.8888888888888888,
             "#fdca26"
            ],
            [
             1,
             "#f0f921"
            ]
           ],
           "sequentialminus": [
            [
             0,
             "#0d0887"
            ],
            [
             0.1111111111111111,
             "#46039f"
            ],
            [
             0.2222222222222222,
             "#7201a8"
            ],
            [
             0.3333333333333333,
             "#9c179e"
            ],
            [
             0.4444444444444444,
             "#bd3786"
            ],
            [
             0.5555555555555556,
             "#d8576b"
            ],
            [
             0.6666666666666666,
             "#ed7953"
            ],
            [
             0.7777777777777778,
             "#fb9f3a"
            ],
            [
             0.8888888888888888,
             "#fdca26"
            ],
            [
             1,
             "#f0f921"
            ]
           ]
          },
          "colorway": [
           "#636efa",
           "#EF553B",
           "#00cc96",
           "#ab63fa",
           "#FFA15A",
           "#19d3f3",
           "#FF6692",
           "#B6E880",
           "#FF97FF",
           "#FECB52"
          ],
          "font": {
           "color": "#2a3f5f"
          },
          "geo": {
           "bgcolor": "white",
           "lakecolor": "white",
           "landcolor": "#E5ECF6",
           "showlakes": true,
           "showland": true,
           "subunitcolor": "white"
          },
          "hoverlabel": {
           "align": "left"
          },
          "hovermode": "closest",
          "mapbox": {
           "style": "light"
          },
          "paper_bgcolor": "white",
          "plot_bgcolor": "#E5ECF6",
          "polar": {
           "angularaxis": {
            "gridcolor": "white",
            "linecolor": "white",
            "ticks": ""
           },
           "bgcolor": "#E5ECF6",
           "radialaxis": {
            "gridcolor": "white",
            "linecolor": "white",
            "ticks": ""
           }
          },
          "scene": {
           "xaxis": {
            "backgroundcolor": "#E5ECF6",
            "gridcolor": "white",
            "gridwidth": 2,
            "linecolor": "white",
            "showbackground": true,
            "ticks": "",
            "zerolinecolor": "white"
           },
           "yaxis": {
            "backgroundcolor": "#E5ECF6",
            "gridcolor": "white",
            "gridwidth": 2,
            "linecolor": "white",
            "showbackground": true,
            "ticks": "",
            "zerolinecolor": "white"
           },
           "zaxis": {
            "backgroundcolor": "#E5ECF6",
            "gridcolor": "white",
            "gridwidth": 2,
            "linecolor": "white",
            "showbackground": true,
            "ticks": "",
            "zerolinecolor": "white"
           }
          },
          "shapedefaults": {
           "line": {
            "color": "#2a3f5f"
           }
          },
          "ternary": {
           "aaxis": {
            "gridcolor": "white",
            "linecolor": "white",
            "ticks": ""
           },
           "baxis": {
            "gridcolor": "white",
            "linecolor": "white",
            "ticks": ""
           },
           "bgcolor": "#E5ECF6",
           "caxis": {
            "gridcolor": "white",
            "linecolor": "white",
            "ticks": ""
           }
          },
          "title": {
           "x": 0.05
          },
          "xaxis": {
           "automargin": true,
           "gridcolor": "white",
           "linecolor": "white",
           "ticks": "",
           "title": {
            "standoff": 15
           },
           "zerolinecolor": "white",
           "zerolinewidth": 2
          },
          "yaxis": {
           "automargin": true,
           "gridcolor": "white",
           "linecolor": "white",
           "ticks": "",
           "title": {
            "standoff": 15
           },
           "zerolinecolor": "white",
           "zerolinewidth": 2
          }
         }
        },
        "title": {
         "text": "Model Predicted and Actual Score vs Sailor (lower is better)"
        },
        "width": 1100,
        "xaxis": {
         "anchor": "y",
         "domain": [
          0,
          1
         ],
         "title": {
          "text": "Num Teams"
         }
        },
        "yaxis": {
         "anchor": "x",
         "domain": [
          0,
          1
         ],
         "title": {
          "text": "Score"
         }
        }
       }
      }
     },
     "metadata": {},
     "output_type": "display_data"
    }
   ],
   "source": [
    "import plotly.express as px\n",
    "import plotly.figure_factory as ff\n",
    "\n",
    "# predictions = model.predict_rank([[p.r] for p in list(people.values()) if p.name in ['Carter Anderson', 'Justin Callahan', 'Blake Roberts'] and p.pos == 'Skipper'])\n",
    "# print([p.name for p in list(people.values()) if p.name in ['Carter Anderson', 'Justin Callahan', 'Blake Roberts']  and p.pos == 'Skipper'])\n",
    "# print(predictions)\n",
    "\n",
    "# for raceID in list(df_races_full['raceID'].unique()):\n",
    "# print(raceID)\n",
    "# raceID = 'f24/open-atlantic-coast-final/1A'\n",
    "raceID = \"f24/mcsa-open-fall/10A\"\n",
    "# race = df_races_full.loc[df_races_full['raceID'] == raceID]\n",
    "race = df_races_full[df_races_full['raceID'] == raceID]\n",
    "df_preds3 = pd.DataFrame(columns=['pred', 'actual', 'Sailor'])\n",
    "for pos in ['Skipper', 'Crew']:\n",
    "    sailors = [p for p in people.values() if p.name in list(race['Sailor']) and race.loc[race['Sailor'] == p.name, 'Position'].iat[0] == pos and p.pos == pos]\n",
    "    predictions = model.predict_rank([[p.r] for p in sailors])\n",
    "\n",
    "    for pred, sailor in zip(predictions, sailors):\n",
    "        score = float(race.loc[race['Sailor'] == sailor.name, 'Score'])\n",
    "        # print(f\"predicted: {pred[0]}, actual: {int(score)}, name: {sailor.name}\")\n",
    "        df_preds3.loc[len(df_preds3)] = [float(pred[0]), score, sailor.name]\n",
    "    \n",
    "\n",
    "df_preds = pd.read_csv('predsLR.csv')\n",
    "df_preds2 = pd.read_csv('predsRF.csv')\n",
    "\n",
    "df_preds3['predLR'] = df_preds['pred']\n",
    "df_preds3['predRF'] = df_preds2['Predicted Score']\n",
    "\n",
    "err = (abs(df_preds3['pred'] - df_preds3['actual'])).mean()\n",
    "print(f\"Mean Absolute Error for predictions in Race {raceID}: {err:.2f}\")\n",
    "err = (abs(df_preds3['predLR'] - df_preds3['actual'])).mean()\n",
    "print(f\"Mean Absolute Error for predictions in Race {raceID}: {err:.2f}\")\n",
    "err = (abs(df_preds3['predRF'] - df_preds3['actual'])).mean()\n",
    "print(f\"Mean Absolute Error for predictions in Race {raceID}: {err:.2f}\")\n",
    "\n",
    "fig = px.bar(df_preds3,x='Sailor', y=['actual', 'pred', 'predLR', 'predRF'],color_discrete_map={'actual': '#0101fd', 'pred': '#ffa500'})\n",
    "fig.update_layout(width=1100, title='Model Predicted and Actual Score vs Sailor (lower is better)',\n",
    "    xaxis_title='Num Teams',\n",
    "    \n",
    "    yaxis_title='Score',\n",
    "    barmode='group')\n",
    "fig.show()"
   ]
  },
  {
   "cell_type": "code",
   "execution_count": 25,
   "metadata": {},
   "outputs": [
    {
     "name": "stdout",
     "output_type": "stream",
     "text": [
      "0/17009\n",
      "1000/17009\n",
      "2000/17009\n",
      "3000/17009\n",
      "4000/17009\n",
      "5000/17009\n",
      "6000/17009\n",
      "7000/17009\n",
      "8000/17009\n",
      "9000/17009\n",
      "10000/17009\n",
      "11000/17009\n",
      "12000/17009\n",
      "13000/17009\n",
      "14000/17009\n",
      "15000/17009\n",
      "16000/17009\n",
      "17000/17009\n"
     ]
    }
   ],
   "source": [
    "df_elo = pd.DataFrame(columns=['Sailor', 'Teams', 'Pos', 'Elo'])\n",
    "\n",
    "new_rows = []\n",
    "for p in people.values():\n",
    "    df_elo.loc[len(df_elo)] = [p.name, p.teams, p.pos, p.r.mu]\n",
    "    row = {\"Sailor\": p.name}\n",
    "    row.update(zip(p.races, [(int(c['score']), float(c['change']), float(c['regAvg']), float(c['newRating'])) for c in p.changes]))\n",
    "    new_rows.append(row)\n",
    "\n",
    "all_keys = ['Sailor'] + list(df_races['raceID'].unique())\n",
    "new_df = pd.DataFrame(new_rows, columns=all_keys)\n",
    "\n",
    "df_elo = pd.concat([df_elo.set_index('Sailor'), new_df.set_index('Sailor')], axis=1).reset_index()\n",
    "\n",
    "# Filter sailors who have 'f24' in their seasons list\n",
    "eligible_sailors = [p.name for p in people.values() if 'f24' in p.seasons]\n",
    "\n",
    "# Filter the df_elo DataFrame to only include eligible sailors\n",
    "df_elo_filtered = df_elo[df_elo['Sailor'].isin(eligible_sailors)]\n",
    "\n",
    "# Sort the filtered df_elo by Elo and reset index\n",
    "df_elo_filtered = df_elo_filtered.sort_values('Elo', ascending=False)\n",
    "df_elo_filtered.reset_index(drop=True, inplace=True)\n",
    "\n",
    "# Rank sailors within each position (Skipper/Crew) based on Elo\n",
    "df_elo_filtered['Rank'] = df_elo_filtered.groupby('Pos')['Elo'].rank(method='dense', ascending=False).astype(int)\n",
    "\n",
    "# Merge the df_elo_filtered with the sailors' data to get the rank in bulk\n",
    "# df_rank = df_elo_filtered[['Sailor', 'Pos', 'Rank']]\n",
    "\n",
    "# # Merge with people data to assign ranks in one go\n",
    "# people_df = pd.DataFrame({\n",
    "#     'Sailor': [p.name for p in people.values()],\n",
    "#     'Pos': [p.pos for p in people.values()],\n",
    "#     'rank': [None] * len(people)  # Initialize with None\n",
    "# })\n",
    "\n",
    "# Perform a merge to get the rank assigned to each sailor\n",
    "# people_df = people_df.merge(df_rank, on=['Sailor', 'Pos'], how='left')\n",
    "\n",
    "# Update the rank attribute of each sailor in the people dictionary\n",
    "# for p in people.values():\n",
    "    # p.rank = people_df.loc[people_df['Sailor'] == p.name, 'Rank'].values[0]\n",
    "\n",
    "\n",
    "# Update rank attribute for each sailor (only for those in the filtered list)\n",
    "for i,p in enumerate(people.values()):\n",
    "    if i % 1000 == 0:\n",
    "        print(f\"{i}/{len(people.values())}\")\n",
    "    if p.name in eligible_sailors:\n",
    "        p.rank = df_elo_filtered.loc[(df_elo_filtered['Sailor'] == p.name) & (df_elo_filtered['Pos'] == p.pos), 'Rank'].values[0]"
   ]
  },
  {
   "cell_type": "code",
   "execution_count": null,
   "metadata": {},
   "outputs": [
    {
     "data": {
      "text/plain": [
       "[update_time {\n",
       "   seconds: 1733634325\n",
       "   nanos: 651949000\n",
       " },\n",
       " update_time {\n",
       "   seconds: 1733634325\n",
       "   nanos: 651949000\n",
       " },\n",
       " update_time {\n",
       "   seconds: 1733634325\n",
       "   nanos: 651949000\n",
       " },\n",
       " update_time {\n",
       "   seconds: 1733634325\n",
       "   nanos: 651949000\n",
       " },\n",
       " update_time {\n",
       "   seconds: 1733634325\n",
       "   nanos: 651949000\n",
       " },\n",
       " update_time {\n",
       "   seconds: 1733634325\n",
       "   nanos: 651949000\n",
       " },\n",
       " update_time {\n",
       "   seconds: 1733634325\n",
       "   nanos: 651949000\n",
       " },\n",
       " update_time {\n",
       "   seconds: 1733634325\n",
       "   nanos: 651949000\n",
       " },\n",
       " update_time {\n",
       "   seconds: 1733634325\n",
       "   nanos: 651949000\n",
       " },\n",
       " update_time {\n",
       "   seconds: 1733634325\n",
       "   nanos: 651949000\n",
       " },\n",
       " update_time {\n",
       "   seconds: 1733634325\n",
       "   nanos: 651949000\n",
       " },\n",
       " update_time {\n",
       "   seconds: 1733634325\n",
       "   nanos: 651949000\n",
       " },\n",
       " update_time {\n",
       "   seconds: 1733634325\n",
       "   nanos: 651949000\n",
       " },\n",
       " update_time {\n",
       "   seconds: 1733634325\n",
       "   nanos: 651949000\n",
       " },\n",
       " update_time {\n",
       "   seconds: 1733634325\n",
       "   nanos: 651949000\n",
       " }]"
      ]
     },
     "execution_count": 8,
     "metadata": {},
     "output_type": "execute_result"
    }
   ],
   "source": [
    "col = db.collection('sailorsElo')\n",
    "batch = db.batch()\n",
    "\n",
    "for i,p in enumerate(people.values()):\n",
    "    batch.set(col.document(),\n",
    "        {\"Name\":p.name, \n",
    "         \"Position\": p.pos,\n",
    "         \"Teams\": list(p.teams),\n",
    "         \"Rating\": int(p.r.mu),\n",
    "         \"GlobalRank\": int(p.rank),\n",
    "         \"races\": [{\"raceID\": raceid, \n",
    "                    \"score\": float(c['score']), \n",
    "                    \"change\": float(c['change']), \n",
    "                    'regAvg': float(c['regAvg']), \n",
    "                    'newRating': float(c['newRating']),\n",
    "                    'date': c['date'],\n",
    "                    'partner':c['partner'],\n",
    "                    'ratio': float(c['ratio']), \n",
    "                    'venue': c['venue']\n",
    "                    } for raceid, c in zip(p.races, p.changes)]})\n",
    "    if i % 20 == 0: # commit every 20 documents\n",
    "        batch.commit()\n",
    "batch.commit()"
   ]
  },
  {
   "cell_type": "code",
   "execution_count": 10,
   "metadata": {},
   "outputs": [
    {
     "name": "stdout",
     "output_type": "stream",
     "text": [
      "0/184 Hawaii\n",
      "1/184 UC Santa Barbara\n",
      "2/184 UC Los Angeles\n",
      "3/184 Washington\n",
      "4/184 Cal Maritime\n",
      "5/184 Oregon\n",
      "6/184 UC Davis\n",
      "7/184 Berkeley\n",
      "8/184 Cal Poly\n",
      "9/184 UC San Diego\n",
      "10/184 Western Washington\n",
      "11/184 CSU Long Beach\n",
      "12/184 Channel Islands\n",
      "13/184 Southern Cal\n",
      "14/184 UC Santa Cruz\n",
      "15/184 San Diego State\n",
      "16/184 UC Irvine\n",
      "17/184 Arizona State\n",
      "18/184 Embry-Riddle\n",
      "19/184 Rollins\n",
      "20/184 Florida Tech\n",
      "21/184 Texas A&M Galveston\n",
      "22/184 Texas A&M\n",
      "23/184 Texas\n",
      "24/184 North Texas\n",
      "25/184 Central Oklahoma\n",
      "26/184 Lewis & Clark\n",
      "27/184 Texas A&M C. Christ\n",
      "28/184 Florida\n",
      "29/184 Palm Beach Atlantic\n",
      "30/184 New College\n",
      "31/184 Georgia Tech\n",
      "32/184 Georgia\n",
      "33/184 North Carolina State\n",
      "34/184 South Florida\n",
      "35/184 Jacksonville\n",
      "36/184 U. Miami\n",
      "37/184 Salve Regina\n",
      "38/184 Eckerd\n",
      "39/184 Northwestern\n",
      "40/184 Charleston\n",
      "41/184 Clemson\n",
      "42/184 U South Carolina\n",
      "43/184 UNC Wilmington\n",
      "44/184 North Carolina\n",
      "45/184 Duke\n",
      "46/184 Auburn\n",
      "47/184 Georgetown\n",
      "48/184 Navy\n",
      "49/184 Old Dominion\n",
      "50/184 Michigan\n",
      "51/184 Maine Maritime\n",
      "52/184 Maryland\n",
      "53/184 East Carolina\n",
      "54/184 Boston College\n",
      "55/184 Hampton\n",
      "56/184 Florida State\n",
      "57/184 Princeton\n",
      "58/184 St. Mary's\n",
      "59/184 Cornell\n",
      "60/184 Virginia\n",
      "61/184 Brown\n",
      "62/184 Coast Guard\n",
      "63/184 Rhode Island\n",
      "64/184 Roger Williams\n",
      "65/184 Tufts\n",
      "66/184 Bowdoin\n",
      "67/184 Vermont\n",
      "68/184 Monterey Bay\n",
      "69/184 Georgia Southern\n",
      "70/184 Wisconsin\n",
      "71/184 Tulane\n",
      "72/184 Washington College\n",
      "73/184 Virginia Tech\n",
      "74/184 Stanford\n",
      "75/184 Pennsylvania\n",
      "76/184 Hobart & William\n",
      "77/184 Fordham\n",
      "78/184 British Columbia\n",
      "79/184 Victoria\n",
      "80/184 McGill\n",
      "81/184 Northeastern\n",
      "82/184 Wentworth Institute\n",
      "83/184 Middlebury\n",
      "84/184 Fairfield\n",
      "85/184 Wake Forest\n",
      "86/184 Citadel\n",
      "87/184 George Washington\n",
      "88/184 Connecticut College\n",
      "89/184 Kings Point\n",
      "90/184 NY Maritime\n",
      "91/184 Christopher Newport\n",
      "92/184 Oregon State\n",
      "93/184 Notre Dame\n",
      "94/184 Saint Thomas\n",
      "95/184 Purdue\n",
      "96/184 Hope\n",
      "97/184 Grand Valley State\n",
      "98/184 Marquette\n",
      "99/184 Michigan State\n",
      "100/184 Michigan Tech\n",
      "101/184 Webb Institute\n",
      "102/184 Villanova\n",
      "103/184 Delaware\n",
      "104/184 Cincinnati\n",
      "105/184 Ohio\n",
      "106/184 Miami University\n",
      "107/184 William and Mary\n",
      "108/184 Rochester\n",
      "109/184 Syracuse\n",
      "110/184 U Pittsburgh\n",
      "111/184 U. Rochester\n",
      "112/184 MIT\n",
      "113/184 Yale\n",
      "114/184 Dartmouth\n",
      "115/184 Harvard\n",
      "116/184 Boston University\n",
      "117/184 Bates\n",
      "118/184 New Hampshire\n",
      "119/184 Olin\n",
      "120/184 Hillsdale\n",
      "121/184 Toledo\n",
      "122/184 Ohio State\n",
      "123/184 Denison\n",
      "124/184 Catholic U America\n",
      "125/184 American\n",
      "126/184 Loyola College\n",
      "127/184 Stony Brook\n",
      "128/184 Monmouth\n",
      "129/184 Vanderbilt\n",
      "130/184 Tennessee\n",
      "131/184 Gannon\n",
      "132/184 Penn State\n",
      "133/184 Mercyhurst\n",
      "134/184 Penn State Behrend\n",
      "135/184 Mass Maritime\n",
      "136/184 U. Mass/ Amherst\n",
      "137/184 Florida Gulf Coast\n",
      "138/184 U Maine\n",
      "139/184 Worcester Polytech\n",
      "140/184 Hamilton\n",
      "141/184 Iowa\n",
      "142/184 Minnesota\n",
      "143/184 Williams\n",
      "144/184 Lake Forest\n",
      "145/184 Drexel\n",
      "146/184 St. John's\n",
      "147/184 Bentley\n",
      "148/184 Washington U\n",
      "149/184 Northern Michigan\n",
      "150/184 Illinois\n",
      "151/184 UMass Dartmouth\n",
      "152/184 Wesleyan\n",
      "153/184 Kansas\n",
      "154/184 Western Michigan\n",
      "155/184 Saginaw Valley\n",
      "156/184 Texas Christian\n",
      "157/184 Baylor\n",
      "158/184 Portland State\n",
      "159/184 Santa Clara\n",
      "160/184 U of Central Florida\n",
      "161/184 Columbia\n",
      "162/184 Indiana\n",
      "163/184 Maryland/Baltimore\n",
      "164/184 Chicago\n",
      "165/184 Indiana U Pennsylvan\n",
      "166/184 Army\n",
      "167/184 Amherst\n",
      "168/184 U. Connecticut\n",
      "169/184 Sacred Heart\n",
      "170/184 Rutgers\n",
      "171/184 Sewanee\n",
      "172/184 Ocean County\n",
      "173/184 Case Western\n",
      "174/184 U Toronto\n",
      "175/184 Rice\n",
      "176/184 Colgate\n",
      "177/184 Oklahoma\n",
      "178/184 Saint Mary's College\n",
      "179/184 Stevens\n",
      "180/184 Davidson\n",
      "181/184 Gonzaga\n",
      "182/184 Queen's\n",
      "183/184 Brandeis\n"
     ]
    }
   ],
   "source": [
    "import requests\n",
    "from bs4 import BeautifulSoup\n",
    "\n",
    "batch = db.batch()\n",
    "col = db.collection('eloTeams')\n",
    "lenteams = len(list(df_races['Team'].unique()))\n",
    "teams = []\n",
    "bySailors = df_races_full.groupby('Sailor')\n",
    "\n",
    "for i,team in enumerate(list(df_races['Team'].unique())):\n",
    "    print(f\"{i}/{lenteams} {team}\")\n",
    "    avg = df_elo.loc[df_elo['Teams'].apply(lambda x: team in x), 'Elo'].mean()\n",
    "    region = df_races\n",
    "    \n",
    "    teamLink = df_races.loc[df_races['Team'] == team, 'Teamlink'].iloc[0]\n",
    "    url = f\"https://scores.collegesailing.org/schools/{teamLink.split(\"/\")[2]}\"\n",
    "    # print(url)\n",
    "    page = requests.get(url)\n",
    "    teamPage = BeautifulSoup(page.content, 'html.parser')\n",
    "    \n",
    "    try:\n",
    "        region = teamPage.find('span', class_=\"page-info-value\").contents[0].contents[0]\n",
    "        # print(team, avg, region)\n",
    "    except:\n",
    "        print(url)\n",
    "        \n",
    "    members = [{\"name\": p.name, \n",
    "                'pos':p.pos,\n",
    "                'rating': int(p.r.mu),\n",
    "                'seasons':list(df_races_full.loc[df_races_full['Sailor'] == p.name]['raceID'].str.split('/').str[0].unique()), \n",
    "                'globalrank': int(p.rank)} for p in people.values() if team in p.teams]\n",
    "    \n",
    "    teams.append({\"name\":team, \"avg\": avg,\"region\": region, \"link\": url})\n",
    "    batch.set(col.document(),{\"name\":team, \"avg\": avg,\"region\": region, \"link\": url, 'members': members})\n",
    "    if i % 20 == 0: # commit every 20 documents\n",
    "            batch.commit()\n",
    "batch.commit()\n",
    "doc = db.collection('vars').document('eloTeams').set({\"teams\": teams})"
   ]
  },
  {
   "cell_type": "code",
   "execution_count": 11,
   "metadata": {},
   "outputs": [],
   "source": [
    "topSkippers = []\n",
    "for p in sorted([p for p in people.values() if p.rank <= 100 and p.pos == 'Skipper'],key=lambda p: p.rank):\n",
    "    topSkippers.append({'name': p.name, 'rank': int(p.rank), 'pos': p.pos, 'team': list(p.teams), 'rating': p.r.mu, 'seasons': list(p.seasons)})\n",
    "topCrews = []\n",
    "for p in sorted([p for p in people.values() if p.rank <= 100 and p.pos == 'Crew'],key=lambda p: p.rank):\n",
    "    topCrews.append({'name': p.name, 'rank': int(p.rank), 'pos': p.pos, 'team': list(p.teams), 'rating': p.r.mu, 'seasons': list(p.seasons)})\n",
    "doc = db.collection('vars').document('topSailors').set({\"skippers\": topSkippers, \"crews\": topCrews})"
   ]
  },
  {
   "cell_type": "code",
   "execution_count": 42,
   "metadata": {},
   "outputs": [
    {
     "data": {
      "text/plain": [
       "1723"
      ]
     },
     "execution_count": 42,
     "metadata": {},
     "output_type": "execute_result"
    }
   ],
   "source": [
    "len(list(df_races_full['Regatta'].unique()))"
   ]
  },
  {
   "cell_type": "code",
   "execution_count": 44,
   "metadata": {},
   "outputs": [],
   "source": [
    "for regatta in list(df_races_full['Regatta'].unique())[704:]:\n",
    "    races = df_races_full[df_races_full['Regatta'] == regatta]\n",
    "    raceIDs = list(races['raceID'].unique())\n",
    "    sailors = races['Sailor'].unique()\n",
    "    \n",
    "    racePpl = [{\"Name\":p.name, \n",
    "         \"Position\": p.pos,\n",
    "         \"Teams\": list(p.teams),\n",
    "         \"Rating\": int(p.r.mu),\n",
    "         \"GlobalRank\": int(p.rank),\n",
    "         \"races\": [{\"raceID\": raceid, \n",
    "                    \"score\": float(c['score']), \n",
    "                    \"predicted\": int(c['predicted']), \n",
    "                    \"change\": float(c['change']), \n",
    "                    'regAvg': float(c['regAvg']), \n",
    "                    'newRating': float(c['newRating']),\n",
    "                    'date': c['date'],\n",
    "                    'partner':c['partner'],\n",
    "                    'ratio': float(c['ratio']),\n",
    "                    'venue': c['venue']\n",
    "                    } for raceid, c in zip(p.races, p.changes) if raceid.split(\"/\")[0] + \"/\" +raceid.split(\"/\")[1] == regatta]\n",
    "        } for p in people.values() if p.name in sailors]\n",
    "    \n",
    "    # race = {'raceID':'', 'raceNum':0, 'div': '', 'sailors':[]}\n",
    "    # person = {'name':'', 'rating':0, 'change':0, 'team': '', 'pos': '', 'div':'', 'partner': ''}\n",
    "    \n",
    "    # for race in races['raceID'].unique():\n",
    "    #     sailors = races[races['raceID'] == race, 'Sailor'].unique()\n",
    "    # for p in [p for p in people.values() if p.name in sailors]:\n",
    "        # racePpl.append({'name':p.name, 'rating':p.rating, 'changes':p.changes, 'team': p.team, 'pos': '', 'div':'', 'partner': ''})\n",
    "    # print(regatta)\n",
    "    db.collection('eloRegattas').document().set({'regattaName': regatta,'raceIDs':raceIDs, 'sailors': racePpl}, timeout=10)"
   ]
  },
  {
   "cell_type": "code",
   "execution_count": 7,
   "metadata": {},
   "outputs": [],
   "source": [
    "df_elo.to_csv(\"elo19.csv\",index=False)"
   ]
  }
 ],
 "metadata": {
  "kernelspec": {
   "display_name": "Python 3",
   "language": "python",
   "name": "python3"
  },
  "language_info": {
   "codemirror_mode": {
    "name": "ipython",
    "version": 3
   },
   "file_extension": ".py",
   "mimetype": "text/x-python",
   "name": "python",
   "nbconvert_exporter": "python",
   "pygments_lexer": "ipython3",
   "version": "3.12.6"
  }
 },
 "nbformat": 4,
 "nbformat_minor": 2
}
