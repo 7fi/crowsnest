{
 "cells": [
  {
   "cell_type": "code",
   "execution_count": null,
   "metadata": {
    "vscode": {
     "languageId": "plaintext"
    }
   },
   "outputs": [],
   "source": [
    "df_elo = pd.DataFrame(columns=['Sailor', 'Teams', 'Pos', 'Elo'])\n",
    "\n",
    "new_rows = []\n",
    "for p in people.values():\n",
    "    df_elo.loc[len(df_elo)] = [p.name, p.teams, p.pos, p.r.mu]\n",
    "    row = {\"Sailor\": p.name}\n",
    "    row.update(zip(p.races, [(int(c['score']), float(c['change']), float(c['regAvg']), float(c['newRating'])) for c in p.changes]))\n",
    "    new_rows.append(row)\n",
    "\n",
    "all_keys = ['Sailor'] + list(df_races['raceID'].unique())\n",
    "new_df = pd.DataFrame(new_rows, columns=all_keys)\n",
    "\n",
    "df_elo = pd.concat([df_elo.set_index('Sailor'), new_df.set_index('Sailor')], axis=1).reset_index()\n",
    "\n",
    "# Filter sailors who have 'f24' in their seasons list\n",
    "eligible_sailors = [p.name for p in people.values() if 'f24' in p.seasons]\n",
    "\n",
    "# Filter the df_elo DataFrame to only include eligible sailors\n",
    "df_elo_filtered = df_elo[df_elo['Sailor'].isin(eligible_sailors)]\n",
    "\n",
    "# Sort the filtered df_elo by Elo and reset index\n",
    "df_elo_filtered = df_elo_filtered.sort_values('Elo', ascending=False)\n",
    "df_elo_filtered.reset_index(drop=True, inplace=True)\n",
    "\n",
    "# Rank sailors within each position (Skipper/Crew) based on Elo\n",
    "df_elo_filtered['Rank'] = df_elo_filtered.groupby('Pos')['Elo'].rank(method='dense', ascending=False).astype(int)\n",
    "\n",
    "# Merge the df_elo_filtered with the sailors' data to get the rank in bulk\n",
    "# df_rank = df_elo_filtered[['Sailor', 'Pos', 'Rank']]\n",
    "\n",
    "# # Merge with people data to assign ranks in one go\n",
    "# people_df = pd.DataFrame({\n",
    "#     'Sailor': [p.name for p in people.values()],\n",
    "#     'Pos': [p.pos for p in people.values()],\n",
    "#     'rank': [None] * len(people)  # Initialize with None\n",
    "# })\n",
    "\n",
    "# Perform a merge to get the rank assigned to each sailor\n",
    "# people_df = people_df.merge(df_rank, on=['Sailor', 'Pos'], how='left')\n",
    "\n",
    "# Update the rank attribute of each sailor in the people dictionary\n",
    "# for p in people.values():\n",
    "    # p.rank = people_df.loc[people_df['Sailor'] == p.name, 'Rank'].values[0]\n",
    "\n",
    "\n",
    "# Update rank attribute for each sailor (only for those in the filtered list)\n",
    "for p in people.values():\n",
    "    if p.name in eligible_sailors:\n",
    "        p.rank = df_elo_filtered.loc[(df_elo_filtered['Sailor'] == p.name) & (df_elo_filtered['Pos'] == p.pos), 'Rank'].values[0]"
   ]
  },
  {
   "cell_type": "code",
   "execution_count": null,
   "metadata": {
    "vscode": {
     "languageId": "plaintext"
    }
   },
   "outputs": [],
   "source": [
    "# makes bar chart\n",
    "import plotly.express as px\n",
    "import plotly.figure_factory as ff\n",
    "\n",
    "# predictions = model.predict_rank([[p.r] for p in list(people.values()) if p.name in ['Carter Anderson', 'Justin Callahan', 'Blake Roberts'] and p.pos == 'Skipper'])\n",
    "# print([p.name for p in list(people.values()) if p.name in ['Carter Anderson', 'Justin Callahan', 'Blake Roberts']  and p.pos == 'Skipper'])\n",
    "# print(predictions)\n",
    "\n",
    "# for raceID in list(df_races_full['raceID'].unique()):\n",
    "# print(raceID)\n",
    "# raceID = 'f24/open-atlantic-coast-final/1A'\n",
    "raceID = \"f24/mcsa-open-fall/10A\"\n",
    "# race = df_races_full.loc[df_races_full['raceID'] == raceID]\n",
    "race = df_races_full[df_races_full['raceID'] == raceID]\n",
    "df_preds3 = pd.DataFrame(columns=['pred', 'actual', 'Sailor'])\n",
    "for pos in ['Skipper', 'Crew']:\n",
    "    sailors = [p for p in people.values() if p.name in list(race['Sailor']) and race.loc[race['Sailor'] == p.name, 'Position'].iat[0] == pos and p.pos == pos]\n",
    "    predictions = model.predict_rank([[p.r] for p in sailors])\n",
    "\n",
    "    for pred, sailor in zip(predictions, sailors):\n",
    "        score = float(race.loc[race['Sailor'] == sailor.name, 'Score'])\n",
    "        # print(f\"predicted: {pred[0]}, actual: {int(score)}, name: {sailor.name}\")\n",
    "        df_preds3.loc[len(df_preds3)] = [float(pred[0]), score, sailor.name]\n",
    "    \n",
    "df_preds = pd.read_csv('predsLR.csv')\n",
    "df_preds2 = pd.read_csv('predsRF.csv')\n",
    "\n",
    "df_preds3['predLR'] = df_preds['pred']\n",
    "df_preds3['predRF'] = df_preds2['Predicted Score']\n",
    "\n",
    "err = (abs(df_preds3['pred'] - df_preds3['actual'])).mean()\n",
    "print(f\"Mean Absolute Error for predictions in Race {raceID}: {err:.2f}\")\n",
    "err = (abs(df_preds3['predLR'] - df_preds3['actual'])).mean()\n",
    "print(f\"Mean Absolute Error for predictions in Race {raceID}: {err:.2f}\")\n",
    "err = (abs(df_preds3['predRF'] - df_preds3['actual'])).mean()\n",
    "print(f\"Mean Absolute Error for predictions in Race {raceID}: {err:.2f}\")\n",
    "\n",
    "fig = px.bar(df_preds3,x='Sailor', y=['actual', 'pred', 'predLR', 'predRF'],color_discrete_map={'actual': '#0101fd', 'pred': '#ffa500'})\n",
    "fig.update_layout(width=1100, title='Model Predicted and Actual Score vs Sailor (lower is better)',\n",
    "    xaxis_title='Num Teams',\n",
    "    \n",
    "    yaxis_title='Score',\n",
    "    barmode='group')\n",
    "fig.show()"
   ]
  }
 ],
 "metadata": {
  "language_info": {
   "name": "python"
  }
 },
 "nbformat": 4,
 "nbformat_minor": 2
}
