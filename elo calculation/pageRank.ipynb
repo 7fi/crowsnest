{
 "cells": [
  {
   "cell_type": "code",
   "execution_count": 2,
   "metadata": {},
   "outputs": [],
   "source": [
    "import networkx as nx\n",
    "import pandas as pd"
   ]
  },
  {
   "cell_type": "code",
   "execution_count": 3,
   "metadata": {},
   "outputs": [],
   "source": [
    "df_sailors = pd.read_json(\"sailors.json\")\n",
    "df_sailors"
   ]
  },
  {
   "cell_type": "code",
   "execution_count": null,
   "metadata": {},
   "outputs": [],
   "source": [
    "G = nx.DiGraph()\n",
    "\n",
    "for row in df_sailors.iterrows():\n",
    "    for race in row['Races']:\n",
    "        # Add edges based on race data\n",
    "        G.add_edge(row['Sailor'], 'sailor_B', weight=0.6)  # A lost to B with 60% dominance\n",
    "\n",
    "# Compute PageRank\n",
    "pagerank = nx.pagerank(G, alpha=0.85)"
   ]
  }
 ],
 "metadata": {
  "kernelspec": {
   "display_name": "Python 3",
   "language": "python",
   "name": "python3"
  },
  "language_info": {
   "codemirror_mode": {
    "name": "ipython",
    "version": 3
   },
   "file_extension": ".py",
   "mimetype": "text/x-python",
   "name": "python",
   "nbconvert_exporter": "python",
   "pygments_lexer": "ipython3",
   "version": "3.12.6"
  }
 },
 "nbformat": 4,
 "nbformat_minor": 2
}
